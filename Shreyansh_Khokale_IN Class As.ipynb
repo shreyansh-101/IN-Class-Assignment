{
 "cells": [
  {
   "cell_type": "code",
   "execution_count": 7,
   "id": "85ddbc7b",
   "metadata": {},
   "outputs": [
    {
     "name": "stdout",
     "output_type": "stream",
     "text": [
      "(10, 'hello', 3.14)\n"
     ]
    }
   ],
   "source": [
    "#Create a tuple with three elements: 10, “hello”, and 3.14.\n",
    "my_tuple = (10, \"hello\", 3.14)\n",
    "print(my_tuple)\n"
   ]
  },
  {
   "cell_type": "code",
   "execution_count": 8,
   "id": "769cf32d",
   "metadata": {},
   "outputs": [
    {
     "name": "stdout",
     "output_type": "stream",
     "text": [
      "(1, 2, 3, 4, 5, 6)\n"
     ]
    }
   ],
   "source": [
    "#Concatenate the tuples (1, 2, 3) and (4, 5, 6) and store the result in a new tuple\n",
    "\n",
    "tuple1 = (1, 2, 3)\n",
    "tuple2 = (4, 5, 6)\n",
    "\n",
    "concatenated_tuple = tuple1 + tuple2\n",
    "\n",
    "print(concatenated_tuple)\n"
   ]
  },
  {
   "cell_type": "code",
   "execution_count": 11,
   "id": "941418db",
   "metadata": {},
   "outputs": [
    {
     "name": "stdout",
     "output_type": "stream",
     "text": [
      "The phone number of Harsh is: 8469752363\n",
      "Updated Phone Book:\n",
      "{'Shreyansh': '7841806979', 'Harsh': '8469752363', 'Akash': '8996523782', 'David': '9876543214'}\n"
     ]
    }
   ],
   "source": [
    "# Create a phone book dictionary\n",
    "phone_book = {\n",
    "    'Shreyansh': '7841806979',\n",
    "    'Harsh': '8469752363',\n",
    "    'Akash': '8996523782'\n",
    "}\n",
    "\n",
    "# Add a new contact to the phone book\n",
    "new_contact_name = 'David'\n",
    "new_contact_number = '9876543214'\n",
    "phone_book[new_contact_name] = new_contact_number\n",
    "\n",
    "# Retrieve the phone number of a specific person\n",
    "specific_person = 'Harsh'\n",
    "if specific_person in phone_book:\n",
    "    specific_person_number = phone_book[specific_person]\n",
    "    print(f\"The phone number of {specific_person} is: {specific_person_number}\")\n",
    "else:\n",
    "    print(f\"{specific_person} is not found in the phone book.\")\n",
    "\n",
    "# Print the updated phone book\n",
    "print(\"Updated Phone Book:\")\n",
    "print(phone_book)\n"
   ]
  },
  {
   "cell_type": "code",
   "execution_count": 13,
   "id": "f5c649f7",
   "metadata": {},
   "outputs": [
    {
     "name": "stdout",
     "output_type": "stream",
     "text": [
      "The average grade is: 87.60\n",
      "The student with the highest grade is ewfd with a grade of 95\n"
     ]
    }
   ],
   "source": [
    "# Dictionary of student names and their corresponding grades\n",
    "student_grades = {\n",
    "    'shre': 85,\n",
    "    'Abc': 92,\n",
    "    'sdfsd': 78,\n",
    "    'ewfd': 95,\n",
    "    'werd': 88\n",
    "}\n",
    "\n",
    "# Calculate the average grade\n",
    "total_grades = sum(student_grades.values())\n",
    "average_grade = total_grades / len(student_grades)\n",
    "\n",
    "print(f\"The average grade is: {average_grade:.2f}\")\n",
    "\n",
    "# Find the student with the highest grade\n",
    "highest_grade_student = max(student_grades, key=student_grades.get)\n",
    "highest_grade = student_grades[highest_grade_student]\n",
    "\n",
    "print(f\"The student with the highest grade is {highest_grade_student} with a grade of {highest_grade}\")\n"
   ]
  },
  {
   "cell_type": "code",
   "execution_count": 15,
   "id": "f60888e5",
   "metadata": {},
   "outputs": [
    {
     "name": "stdout",
     "output_type": "stream",
     "text": [
      "Students who study both math and physics: {'Shreyansh', 'Dravid'}\n",
      "All unique students: {'Shreyansh', 'Harsh', 'Dravid', 'Frank', 'Gia', 'Akash'}\n"
     ]
    }
   ],
   "source": [
    "# Sets representing math and physics students\n",
    "math_students = {'Shreyansh', 'Akash', 'Harsh', 'Dravid'}\n",
    "physics_students = {'Gia', 'Dravid', 'Shreyansh', 'Frank'}\n",
    "\n",
    "# Determine the intersection of the sets (students who study both math and physics)\n",
    "common_students = math_students.intersection(physics_students)\n",
    "print(f\"Students who study both math and physics: {common_students}\")\n",
    "\n",
    "# Find the union of the sets (all unique students)\n",
    "all_students = math_students.union(physics_students)\n",
    "print(f\"All unique students: {all_students}\")\n"
   ]
  },
  {
   "cell_type": "code",
   "execution_count": 17,
   "id": "127fc987",
   "metadata": {},
   "outputs": [
    {
     "name": "stdout",
     "output_type": "stream",
     "text": [
      "Harsh has been removed from the math student set.\n",
      "Updated math student set: {'Shreyansh', 'Dravid', 'Akash'}\n",
      "Nob has been added to the physics student set.\n",
      "Updated physics student set: {'Nob', 'Harsh', 'Dravid', 'Frank', 'Gia'}\n"
     ]
    }
   ],
   "source": [
    "# Sets representing math and physics students\n",
    "math_students = {'Akash', 'Harsh', 'Shreyansh', 'Dravid'}\n",
    "physics_students = {'Harsh', 'Dravid', 'Gia', 'Frank'}\n",
    "\n",
    "# Remove a specific student from the math student set\n",
    "removed_student = 'Harsh'\n",
    "math_students.discard(removed_student)\n",
    "print(f\"{removed_student} has been removed from the math student set.\")\n",
    "print(f\"Updated math student set: {math_students}\")\n",
    "\n",
    "# Add a new student to the physics student set\n",
    "new_student = 'Nob'\n",
    "physics_students.add(new_student)\n",
    "print(f\"{new_student} has been added to the physics student set.\")\n",
    "print(f\"Updated physics student set: {physics_students}\")\n"
   ]
  },
  {
   "cell_type": "code",
   "execution_count": null,
   "id": "88f0535c",
   "metadata": {},
   "outputs": [],
   "source": []
  }
 ],
 "metadata": {
  "kernelspec": {
   "display_name": "Python 3 (ipykernel)",
   "language": "python",
   "name": "python3"
  },
  "language_info": {
   "codemirror_mode": {
    "name": "ipython",
    "version": 3
   },
   "file_extension": ".py",
   "mimetype": "text/x-python",
   "name": "python",
   "nbconvert_exporter": "python",
   "pygments_lexer": "ipython3",
   "version": "3.11.5"
  }
 },
 "nbformat": 4,
 "nbformat_minor": 5
}
